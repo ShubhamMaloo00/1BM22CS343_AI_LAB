{
 "cells": [
  {
   "cell_type": "code",
   "execution_count": 4,
   "id": "b952e424-45ee-4a6e-a0ad-38c71ac001c1",
   "metadata": {},
   "outputs": [
    {
     "name": "stdin",
     "output_type": "stream",
     "text": [
      "Enter Ψ1:  p(f(),x)\n",
      "Enter Ψ2:  p(f(),'John')\n"
     ]
    },
    {
     "name": "stdout",
     "output_type": "stream",
     "text": [
      "Unification Successful!\n",
      "Substitutions:\n",
      "x -> 'John'\n"
     ]
    }
   ],
   "source": [
    "def is_variable(term):\n",
    "    \"\"\"Check if the term is a variable.\"\"\"\n",
    "    return term.islower() and len(term) == 1\n",
    "\n",
    "\n",
    "def occurs_check(var, term):\n",
    "    \"\"\"Check if a variable occurs in a term.\"\"\"\n",
    "    return var in term\n",
    "\n",
    "\n",
    "def unify(psi1, psi2, subst=None):\n",
    "    \"\"\"Unify two terms psi1 and psi2.\"\"\"\n",
    "    if subst is None:\n",
    "        subst = {}\n",
    "\n",
    "    # Step 1(a): If psi1 and psi2 are identical, return the current substitution\n",
    "    if psi1 == psi2:\n",
    "        return subst\n",
    "\n",
    "    # Step 1(b): If psi1 is a variable\n",
    "    if is_variable(psi1):\n",
    "        if occurs_check(psi1, psi2):  # Step 1(b)a\n",
    "            return None\n",
    "        else:  # Step 1(b)b\n",
    "            subst[psi1] = psi2\n",
    "            return subst\n",
    "\n",
    "    # Step 1(c): If psi2 is a variable\n",
    "    if is_variable(psi2):\n",
    "        if occurs_check(psi2, psi1):  # Step 1(c)a\n",
    "            return None\n",
    "        else:  # Step 1(c)b\n",
    "            subst[psi2] = psi1\n",
    "            return subst\n",
    "\n",
    "    # Step 2: If psi1 and psi2 are predicates with different symbols, return FAILURE\n",
    "    if psi1[0] != psi2[0]:\n",
    "        return None\n",
    "\n",
    "    # Step 3: If psi1 and psi2 have different numbers of arguments, return FAILURE\n",
    "    args1 = psi1[2:-1].split(\",\") if \"(\" in psi1 else []\n",
    "    args2 = psi2[2:-1].split(\",\") if \"(\" in psi2 else []\n",
    "\n",
    "    if len(args1) != len(args2):\n",
    "        return None\n",
    "\n",
    "    # Step 4: Initialize SUBST to an empty set\n",
    "    for arg1, arg2 in zip(args1, args2):\n",
    "        subst = unify(arg1.strip(), arg2.strip(), subst)\n",
    "        if subst is None:  # Step 5(b)\n",
    "            return None\n",
    "\n",
    "    return subst\n",
    "\n",
    "\n",
    "# Example usage\n",
    "psi1 = input(\"Enter Ψ1: \").strip()\n",
    "psi2 = input(\"Enter Ψ2: \").strip()\n",
    "\n",
    "result = unify(psi1, psi2)\n",
    "if result is not None:\n",
    "    print(\"Unification Successful!\")\n",
    "    print(\"Substitutions:\")\n",
    "    for var, value in result.items():\n",
    "        print(f\"{var} -> {value}\")\n",
    "else:\n",
    "    print(\"Unification Failed!\")"
   ]
  },
  {
   "cell_type": "code",
   "execution_count": null,
   "id": "db4d8ed7-9a2c-49aa-b023-5c477318f01c",
   "metadata": {},
   "outputs": [],
   "source": []
  }
 ],
 "metadata": {
  "kernelspec": {
   "display_name": "Python 3 (ipykernel)",
   "language": "python",
   "name": "python3"
  },
  "language_info": {
   "codemirror_mode": {
    "name": "ipython",
    "version": 3
   },
   "file_extension": ".py",
   "mimetype": "text/x-python",
   "name": "python",
   "nbconvert_exporter": "python",
   "pygments_lexer": "ipython3",
   "version": "3.11.7"
  }
 },
 "nbformat": 4,
 "nbformat_minor": 5
}
